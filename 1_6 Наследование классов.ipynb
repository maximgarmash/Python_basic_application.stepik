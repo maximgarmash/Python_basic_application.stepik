{
 "cells": [
  {
   "cell_type": "code",
   "execution_count": 11,
   "metadata": {},
   "outputs": [
    {
     "name": "stdout",
     "output_type": "stream",
     "text": [
      "[]\n",
      "False\n",
      "True\n"
     ]
    },
    {
     "data": {
      "text/plain": [
       "True"
      ]
     },
     "execution_count": 11,
     "metadata": {},
     "output_type": "execute_result"
    }
   ],
   "source": [
    "class MyList(list):\n",
    "    def even_length(self):\n",
    "        return len(self)%2 == 0\n",
    "x = MyList()\n",
    "print(x)\n",
    "x.extend([1, 2, 3, 4, 5])\n",
    "print(x.even_length())\n",
    "x.append(6)\n",
    "print(x.even_length())\n",
    "\n",
    "isinstance(x, list)"
   ]
  },
  {
   "cell_type": "code",
   "execution_count": 12,
   "metadata": {},
   "outputs": [
    {
     "name": "stdout",
     "output_type": "stream",
     "text": [
      "[<class '__main__.A'>, <class '__main__.B'>, <class '__main__.D'>, <class '__main__.E'>, <class '__main__.C'>, <class 'object'>]\n"
     ]
    }
   ],
   "source": [
    "class D: pass\n",
    "class E: pass\n",
    "class B(D, E): pass\n",
    "class C: pass\n",
    "class A(B, C): pass\n",
    "\n",
    "issubclass(A, A)\n",
    "issubclass(C, D)\n",
    "issubclass(A, D)\n",
    "issubclass(C, object)\n",
    "issubclass(object, C)\n",
    "\n",
    "x = A()\n",
    "\n",
    "isinstance(x, A)\n",
    "isinstance(x, E)\n",
    "isinstance(x, str)\n",
    "\n",
    "print(A.mro())"
   ]
  },
  {
   "cell_type": "code",
   "execution_count": 13,
   "metadata": {},
   "outputs": [
    {
     "name": "stdout",
     "output_type": "stream",
     "text": [
      "[<class '__main__.MyList'>, <class 'list'>, <class '__main__.EvenLengthMixin'>, <class 'object'>]\n",
      "False\n",
      "True\n"
     ]
    },
    {
     "data": {
      "text/plain": [
       "True"
      ]
     },
     "execution_count": 13,
     "metadata": {},
     "output_type": "execute_result"
    }
   ],
   "source": [
    "class EvenLengthMixin:\n",
    "    def even_length(self):\n",
    "        return len(self)%2 == 0\n",
    "\n",
    "class MyList(list, EvenLengthMixin): pass\n",
    "\n",
    "print(MyList.mro())\n",
    "x = MyList([1, 2, 3])\n",
    "print(x.even_length())\n",
    "x.append(4)\n",
    "print(x.even_length())\n",
    "\n",
    "isinstance(x, list)"
   ]
  },
  {
   "cell_type": "code",
   "execution_count": 14,
   "metadata": {},
   "outputs": [
    {
     "name": "stdout",
     "output_type": "stream",
     "text": [
      "[<class '__main__.MyList'>, <class 'list'>, <class '__main__.EvenLengthMixin'>, <class 'object'>]\n",
      "Last value is 17\n",
      "17\n",
      "[1, 2, 4]\n"
     ]
    }
   ],
   "source": [
    "class EvenLengthMixin:\n",
    "    def even_length(self):\n",
    "        return len(self)%2 == 0\n",
    "\n",
    "class MyList(list, EvenLengthMixin):\n",
    "    def pop(self):\n",
    "        x = super(MyList, self).pop() # эквивалент list.pop(self)\n",
    "        print('Last value is', x)\n",
    "        return x\n",
    "\n",
    "print(MyList.mro())\n",
    "\n",
    "ml = MyList([1, 2, 4, 17])\n",
    "z = ml.pop()\n",
    "print(z)\n",
    "print(ml)"
   ]
  },
  {
   "cell_type": "code",
   "execution_count": 17,
   "metadata": {},
   "outputs": [
    {
     "name": "stdout",
     "output_type": "stream",
     "text": [
      "[<class '__main__.Derived'>, <class '__main__.Base'>, <class 'object'>]\n",
      "10\n",
      "30\n"
     ]
    }
   ],
   "source": [
    "# Задача\n",
    "\n",
    "class Base:\n",
    "    def __init__(self):\n",
    "        self.val = 0\n",
    "\n",
    "    def add_one(self):\n",
    "        self.val += 1\n",
    "\n",
    "    def add_many(self, x):\n",
    "        for i in range(x):\n",
    "            self.add_one()\n",
    "\n",
    "class Derived(Base):\n",
    "    def add_one(self):\n",
    "        self.val += 10\n",
    "\n",
    "\n",
    "issubclass(Derived, Base)\n",
    "print(Derived.mro())\n",
    "a = Derived()\n",
    "a.add_one()\n",
    "\n",
    "b = Derived()\n",
    "b.add_many(3)\n",
    "\n",
    "print(a.val)\n",
    "print(b.val)"
   ]
  },
  {
   "cell_type": "code",
   "execution_count": 38,
   "metadata": {},
   "outputs": [
    {
     "name": "stdout",
     "output_type": "stream",
     "text": [
      "[<class '__main__.E'>, <class '__main__.B'>, <class '__main__.C'>, <class '__main__.A'>, <class '__main__.D'>, <class 'object'>]\n",
      "C\n"
     ]
    }
   ],
   "source": [
    "# Задача\n",
    "\n",
    "class A:\n",
    "    def foo(self):\n",
    "        print(\"A\")\n",
    "\n",
    "class B(A):\n",
    "    pass\n",
    "\n",
    "class C(A):\n",
    "    def foo(self):\n",
    "        print(\"C\")\n",
    "\n",
    "class D:\n",
    "    def foo(self):\n",
    "        print(\"D\")\n",
    "\n",
    "class E(B, C, D):\n",
    "    pass\n",
    "\n",
    "print(E.mro())\n",
    "\n",
    "E().foo()"
   ]
  },
  {
   "cell_type": "code",
   "execution_count": 5,
   "metadata": {},
   "outputs": [
    {
     "ename": "TypeError",
     "evalue": "Cannot create a consistent method resolution\norder (MRO) for bases object, C, D",
     "output_type": "error",
     "traceback": [
      "\u001b[1;31m---------------------------------------------------------------------------\u001b[0m",
      "\u001b[1;31mTypeError\u001b[0m                                 Traceback (most recent call last)",
      "\u001b[1;32m<ipython-input-5-dd59c75e9e51>\u001b[0m in \u001b[0;36m<module>\u001b[1;34m\u001b[0m\n\u001b[0;32m     13\u001b[0m     \u001b[1;32mpass\u001b[0m\u001b[1;33m\u001b[0m\u001b[1;33m\u001b[0m\u001b[0m\n\u001b[0;32m     14\u001b[0m \u001b[1;33m\u001b[0m\u001b[0m\n\u001b[1;32m---> 15\u001b[1;33m \u001b[1;32mclass\u001b[0m \u001b[0mE\u001b[0m\u001b[1;33m(\u001b[0m\u001b[0mB\u001b[0m\u001b[1;33m,\u001b[0m \u001b[0mC\u001b[0m\u001b[1;33m,\u001b[0m \u001b[0mD\u001b[0m\u001b[1;33m)\u001b[0m\u001b[1;33m:\u001b[0m\u001b[1;33m\u001b[0m\u001b[1;33m\u001b[0m\u001b[0m\n\u001b[0m\u001b[0;32m     16\u001b[0m     \u001b[1;32mpass\u001b[0m\u001b[1;33m\u001b[0m\u001b[1;33m\u001b[0m\u001b[0m\n",
      "\u001b[1;31mTypeError\u001b[0m: Cannot create a consistent method resolution\norder (MRO) for bases object, C, D"
     ]
    }
   ],
   "source": [
    "# Задача\n",
    "\n",
    "class A:\n",
    "    pass\n",
    "\n",
    "class B(A):\n",
    "    pass\n",
    "\n",
    "class C:\n",
    "    pass\n",
    "\n",
    "class D(C):\n",
    "    pass\n",
    "\n",
    "class E(B, C, D):\n",
    "    pass"
   ]
  },
  {
   "cell_type": "code",
   "execution_count": null,
   "metadata": {},
   "outputs": [],
   "source": [
    "# Задача 1\n",
    "\n",
    "def parent(Classes_Derived, key, desc): # Описываем функцию для определения является ли предком один класс для другого\n",
    "    if key == desc or (desc in Classes_Derived and key in Classes_Derived[desc]): # проверяется условие A = B и  \n",
    "        return 'Yes'                                                              # A - прямой предок B и если да то Yes \n",
    "    elif desc in Classes_Derived and Classes_Derived[desc] != []: #проверяется условие\n",
    "        for value in Classes_Derived[desc]:                                           # случай когда проверяется существует такой класс C, что C - прямой предок B и A - предок C\n",
    "            x = parent(Classes_Derived, key, value)                                   # используя рекурсивную функцию\n",
    "            if x == 'Yes':                                                            \n",
    "                break\n",
    "        return x\n",
    "    else:\n",
    "        return 'No'         # если не выполняется никакие другие условия то NO\n",
    "n, Classes_Str = int(input()), []   # Создаем словарь с описанием наследственности классов\n",
    "Classes_Derived = {}\n",
    "for i in range(n):\n",
    "    Classes_Str = input().split()\n",
    "    Classes_Derived[Classes_Str[0]] = Classes_Str[2:]\n",
    "\n",
    "q, get_str = int(input()), []\n",
    "Gets_Answer = []\n",
    "\n",
    "for i in range(q):                        # Создаем список с результатами проверки на наследственность для каждого запроса\n",
    "    get_str = input().split()\n",
    "    Gets_Answer.append(parent(Classes_Derived, get_str[0], get_str[1]))\n",
    "for i in Gets_Answer: # Выводим результат\n",
    "    print(i) "
   ]
  },
  {
   "cell_type": "code",
   "execution_count": 6,
   "metadata": {},
   "outputs": [
    {
     "name": "stdout",
     "output_type": "stream",
     "text": [
      "[1, 2, 3, 4, -3, 3, 2]\n",
      "[1, 2, 3, 4, -3, -1]\n",
      "[1, 2, 3, 4, -4]\n",
      "[1, 2, 3, -16]\n"
     ]
    }
   ],
   "source": [
    "# Задача 2 \n",
    "\n",
    "class ExtendedStack(list):\n",
    "    def sum(self): # операция сложения\n",
    "        self.append(self.pop()+self.pop())\n",
    "        \n",
    "    def sub(self): # операция вычитания\n",
    "        self.append(self.pop()-self.pop())\n",
    "        \n",
    "    def mul(self): # операция умножения\n",
    "        self.append(self.pop()*self.pop())\n",
    "        \n",
    "    def div(self): # операция целочисленного деления\n",
    "        self.append(self.pop()//self.pop())\n",
    "        \n",
    "Test_list = ExtendedStack([1, 2, 3, 4, -3, 3, 5, 10])\n",
    "Test_list.div()\n",
    "print(Test_list)\n",
    "Test_list.sub()\n",
    "print(Test_list)\n",
    "Test_list.sum()\n",
    "print(Test_list)\n",
    "Test_list.mul()\n",
    "print(Test_list)"
   ]
  },
  {
   "cell_type": "code",
   "execution_count": 27,
   "metadata": {},
   "outputs": [
    {
     "name": "stdout",
     "output_type": "stream",
     "text": [
      "Thu Jul 11 19:14:51 2019: D\n"
     ]
    }
   ],
   "source": [
    "# Задача 3\n",
    "\n",
    "import time\n",
    "\n",
    "class Loggable:\n",
    "    def log(self, msg):\n",
    "        print(str(time.ctime()) + \": \" + str(msg))\n",
    "\n",
    "#Реализуйте класс LoggableList, отнаследовав его от классов list и Loggable таким образом,\n",
    "#чтобы при добавлении элемента в список посредством метода append в лог отправлялось сообщение,\n",
    "#состоящее из только что добавленного элемента.\n",
    "\n",
    "\n",
    "class LoggableList(list, Loggable): # наследуем нужные классы\n",
    "    def append(self, item):         # переопределяем функцию append используя стандратный метод класса list()\n",
    "        list.append(self, item)\n",
    "       # print(elem)\n",
    "       # print(self)\n",
    "        self.log(self[-1])          # выводим лог используя существующий метод log класса Loggable c нужным нам аргументом\n",
    "\n",
    "LogList = LoggableList(['A', 'B', 'C'])\n",
    "LogList.append('D')"
   ]
  },
  {
   "cell_type": "code",
   "execution_count": 8,
   "metadata": {},
   "outputs": [
    {
     "name": "stdout",
     "output_type": "stream",
     "text": [
      "5\n"
     ]
    }
   ],
   "source": [
    "lst = [1, 3, 5]\n",
    "print(lst[-1])"
   ]
  },
  {
   "cell_type": "code",
   "execution_count": null,
   "metadata": {},
   "outputs": [],
   "source": []
  }
 ],
 "metadata": {
  "kernelspec": {
   "display_name": "Python 3",
   "language": "python",
   "name": "python3"
  },
  "language_info": {
   "codemirror_mode": {
    "name": "ipython",
    "version": 3
   },
   "file_extension": ".py",
   "mimetype": "text/x-python",
   "name": "python",
   "nbconvert_exporter": "python",
   "pygments_lexer": "ipython3",
   "version": "3.7.2"
  }
 },
 "nbformat": 4,
 "nbformat_minor": 2
}
