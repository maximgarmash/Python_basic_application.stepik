{
 "cells": [
  {
   "cell_type": "code",
   "execution_count": 5,
   "metadata": {},
   "outputs": [
    {
     "name": "stdout",
     "output_type": "stream",
     "text": [
      "9\n",
      "add global a\n",
      "create foo global\n",
      "add foo b\n",
      "get foo a\n",
      "get foo c\n",
      "create bar foo\n",
      "add bar a\n",
      "get bar a\n",
      "get bar b\n",
      "\n",
      "global\n",
      "None\n",
      "bar\n",
      "foo\n",
      "\n",
      "{'global': ['a'], 'foo': ['global', 'b'], 'bar': ['foo', 'a']}\n"
     ]
    }
   ],
   "source": [
    "# Задача\n",
    "# Формат входных данных\n",
    "# В первой строке дано число n (1 ≤ n ≤ 100) – число запросов.\n",
    "# В каждой из следующих n строк дано по одному запросу.\n",
    "# Запросы выполняются в порядке, в котором они даны во входных данных.\n",
    "# Имена пространства имен и имена переменных представляют из себя строки длины не более 10, состоящие из\n",
    "#строчных латинских букв.\n",
    "\n",
    "# Формат выходных данных\n",
    "# Для каждого запроса get выведите в отдельной строке его результат.\n",
    "\n",
    "# Вашей программе на вход подаются следующие запросы:\n",
    "\n",
    "# create <namespace> <parent> –  создать новое пространство имен с именем <namespace> внутри пространства <parent>\n",
    "# add <namespace> <var> – добавить в пространство <namespace> переменную <var>\n",
    "# get <namespace> <var> – получить имя пространства, из которого будет взята переменная <var> при запросе из\n",
    "# пространства <namespace>, или None, если такого пространства не существует\n",
    "\n",
    "# Более формально, результатом работы get <namespace> <var> является:\n",
    "\n",
    "# <namespace>, если в пространстве <namespace> была объявлена переменная <var>\n",
    "# get <parent> <var> – результат запроса к пространству, внутри которого было создано пространство <namespace>,\n",
    "# если переменная не была объявлена\n",
    "# None, если не существует <parent>, т. е. <namespace>﻿ – это global\n",
    "\n",
    "n, gets = int(input()), []\n",
    "NS = {'global':[]}\n",
    "for i in range(n):\n",
    "    gets.append([str(c) for c in input().split()])\n",
    "print()\n",
    "for com in gets:\n",
    "    if com[0] == 'create':\n",
    "        NS[com[1]] = [com[2]]\n",
    "    elif com[0] == 'add':\n",
    "        NS[com[1]].append(com[2])\n",
    "    else:\n",
    "        while com[1] != 'global':\n",
    "            if com[2] in NS[com[1]]:\n",
    "                print(com[1])\n",
    "                break\n",
    "            else:\n",
    "                com[1] = NS[com[1]][0]\n",
    "        if com[2] in NS[com[1]] and com[1] == 'global':\n",
    "            print(com[1])\n",
    "        elif com[1] == 'global':\n",
    "            print('None')\n",
    "            \n",
    "            \n",
    "        \n",
    "        \n",
    "        \n",
    "print()            \n",
    "print(NS)"
   ]
  },
  {
   "cell_type": "code",
   "execution_count": null,
   "metadata": {},
   "outputs": [],
   "source": [
    "add global a\n",
    "create foo global\n",
    "add foo b\n",
    "get foo a\n",
    "get foo c\n",
    "create bar foo\n",
    "add bar a\n",
    "get bar a\n",
    "get bar b"
   ]
  },
  {
   "cell_type": "code",
   "execution_count": null,
   "metadata": {},
   "outputs": [],
   "source": []
  }
 ],
 "metadata": {
  "kernelspec": {
   "display_name": "Python 3",
   "language": "python",
   "name": "python3"
  },
  "language_info": {
   "codemirror_mode": {
    "name": "ipython",
    "version": 3
   },
   "file_extension": ".py",
   "mimetype": "text/x-python",
   "name": "python",
   "nbconvert_exporter": "python",
   "pygments_lexer": "ipython3",
   "version": "3.7.2"
  }
 },
 "nbformat": 4,
 "nbformat_minor": 2
}
