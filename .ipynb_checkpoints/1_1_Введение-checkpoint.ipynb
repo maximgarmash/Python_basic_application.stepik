{
 "cells": [
  {
   "cell_type": "code",
   "execution_count": 3,
   "metadata": {},
   "outputs": [
    {
     "name": "stdout",
     "output_type": "stream",
     "text": [
      "3\n",
      "1\n",
      "2\n",
      "3\n",
      "6\n"
     ]
    }
   ],
   "source": [
    "#Реализуйте программу, которая принимает последовательность чисел и выводит их сумму.\n",
    "\n",
    "#Вашей программе на вход подается последовательность строк.\n",
    "#Первая строка содержит число n (1 ≤ n ≤ 100).\n",
    "#В следующих n строках содержится по одному целому числу.\n",
    "\n",
    "#Выведите одно число – сумму данных n чисел.\n",
    "\n",
    "\n",
    "\n",
    "\n",
    "n, l = int(input()), []\n",
    "for i in range(n):\n",
    "    l.append(int(input()))\n",
    "print(sum(l))"
   ]
  },
  {
   "cell_type": "markdown",
   "metadata": {},
   "source": []
  }
 ],
 "metadata": {
  "kernelspec": {
   "display_name": "Python 3",
   "language": "python",
   "name": "python3"
  },
  "language_info": {
   "codemirror_mode": {
    "name": "ipython",
    "version": 3
   },
   "file_extension": ".py",
   "mimetype": "text/x-python",
   "name": "python",
   "nbconvert_exporter": "python",
   "pygments_lexer": "ipython3",
   "version": "3.7.2"
  }
 },
 "nbformat": 4,
 "nbformat_minor": 2
}
