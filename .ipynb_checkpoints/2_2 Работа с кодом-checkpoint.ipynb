{
 "cells": [
  {
   "cell_type": "code",
   "execution_count": 2,
   "metadata": {},
   "outputs": [
    {
     "name": "stdout",
     "output_type": "stream",
     "text": [
      "2016 4 20\n",
      "14\n",
      "2016 5 4\n"
     ]
    }
   ],
   "source": [
    "from datetime import date, timedelta\n",
    "\n",
    "date_lst = input().split()\n",
    "#d = date(int(date_lst[0]), int(date_lst[1]), int(date_lst[2]))\n",
    "new_date = date(int(date_lst[0]), int(date_lst[1]), int(date_lst[2])) + timedelta(int(input()))\n",
    "print(new_date.year, new_date.month, new_date.day)\n"
   ]
  },
  {
   "cell_type": "markdown",
   "metadata": {},
   "source": [
    "2016 4 20\n",
    "14"
   ]
  }
 ],
 "metadata": {
  "kernelspec": {
   "display_name": "Python 3",
   "language": "python",
   "name": "python3"
  },
  "language_info": {
   "codemirror_mode": {
    "name": "ipython",
    "version": 3
   },
   "file_extension": ".py",
   "mimetype": "text/x-python",
   "name": "python",
   "nbconvert_exporter": "python",
   "pygments_lexer": "ipython3",
   "version": "3.7.2"
  }
 },
 "nbformat": 4,
 "nbformat_minor": 2
}
