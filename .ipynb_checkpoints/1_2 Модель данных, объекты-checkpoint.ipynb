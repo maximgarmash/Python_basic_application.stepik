{
 "cells": [
  {
   "cell_type": "code",
   "execution_count": 1,
   "metadata": {},
   "outputs": [
    {
     "name": "stdout",
     "output_type": "stream",
     "text": [
      "103196672\n",
      "103196512\n"
     ]
    }
   ],
   "source": [
    "#Получить идентификатор  - id\n",
    "\n",
    "x = [1, 2, 3]\n",
    "print(id(x))\n",
    "print(id([1, 2, 3]))"
   ]
  },
  {
   "cell_type": "code",
   "execution_count": 3,
   "metadata": {},
   "outputs": [
    {
     "data": {
      "text/plain": [
       "False"
      ]
     },
     "execution_count": 3,
     "metadata": {},
     "output_type": "execute_result"
    }
   ],
   "source": [
    "# Ссылаются ли две переменные на один объект\n",
    "# можно проверить операторм is\n",
    "\n",
    "x = [1, 2, 3]\n",
    "y = x\n",
    "y is x\n",
    "y is [1, 2, 3]"
   ]
  },
  {
   "cell_type": "code",
   "execution_count": 4,
   "metadata": {},
   "outputs": [
    {
     "name": "stdout",
     "output_type": "stream",
     "text": [
      "True\n",
      "[1, 2, 3, 4]\n",
      "[1, 2, 3, 4]\n"
     ]
    }
   ],
   "source": [
    "# Изменяется объект а не переменная\n",
    "\n",
    "x = [1, 2, 3]\n",
    "y = x\n",
    "print(y is x)\n",
    "x.append(4)\n",
    "print(x)\n",
    "print(y)"
   ]
  },
  {
   "cell_type": "code",
   "execution_count": 1,
   "metadata": {},
   "outputs": [
    {
     "name": "stdout",
     "output_type": "stream",
     "text": [
      "1234\n",
      "[1, 2, 3, 4]\n"
     ]
    }
   ],
   "source": [
    "s = \"123\"\n",
    "t = s\n",
    "t = t+\"4\"\n",
    "print(t)\n",
    "x = [1, 2, 3, 4]\n",
    "print(x)"
   ]
  },
  {
   "cell_type": "code",
   "execution_count": 4,
   "metadata": {},
   "outputs": [
    {
     "data": {
      "text/plain": [
       "type"
      ]
     },
     "execution_count": 4,
     "metadata": {},
     "output_type": "execute_result"
    }
   ],
   "source": [
    "# Тип объекта не может быть изменен после создания объекта (как и индетификатор)\n",
    "# Узнать тип объекта можно с помощью функции type()\n",
    "x = [1, 2, 3]\n",
    "type(x)\n",
    "type(4)\n",
    "type(type(x))"
   ]
  },
  {
   "cell_type": "code",
   "execution_count": 7,
   "metadata": {},
   "outputs": [
    {
     "name": "stdout",
     "output_type": "stream",
     "text": [
      "1564399792 1564399824 1564399872 1564399856 1564399792 1564399872 \n",
      "4\n"
     ]
    }
   ],
   "source": [
    "# Реализуйте программу, которая будет вычислять количество различных объектов в списке.\n",
    "# Два объекта a и b считаются различными, если a is b равно False.\n",
    "\n",
    "# Вашей программе доступна переменная с названием objects, которая ссылается на список, содержащий не более 100 объектов. Выведите количество различных объектов в этом списке.\n",
    "\n",
    "# Примечание:\n",
    "# Количеством различных объектов называется максимальный размер множества объектов, в котором любые два объекта являются различными.\n",
    "objects = [1, 3, 6, 5, 1, 6]\n",
    "ans = set()\n",
    "for i in objects:\n",
    "    print(id(i), end = \" \")\n",
    "    ans.add(id(i))\n",
    "print()\n",
    "print(len(ans))"
   ]
  },
  {
   "cell_type": "code",
   "execution_count": null,
   "metadata": {},
   "outputs": [],
   "source": []
  }
 ],
 "metadata": {
  "kernelspec": {
   "display_name": "Python 3",
   "language": "python",
   "name": "python3"
  },
  "language_info": {
   "codemirror_mode": {
    "name": "ipython",
    "version": 3
   },
   "file_extension": ".py",
   "mimetype": "text/x-python",
   "name": "python",
   "nbconvert_exporter": "python",
   "pygments_lexer": "ipython3",
   "version": "3.7.2"
  }
 },
 "nbformat": 4,
 "nbformat_minor": 2
}
