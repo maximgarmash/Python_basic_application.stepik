{
 "cells": [
  {
   "cell_type": "code",
   "execution_count": 3,
   "metadata": {},
   "outputs": [
    {
     "name": "stdout",
     "output_type": "stream",
     "text": [
      "['arg1', 'arg2', 'foo']\n"
     ]
    }
   ],
   "source": [
    "a = []\n",
    "\n",
    "def foo(arg1, arg2):\n",
    "  a.append(\"foo\")\n",
    "\n",
    "foo(a.append(\"arg1\"), a.append(\"arg2\"))\n",
    "\n",
    "print(a)"
   ]
  },
  {
   "cell_type": "code",
   "execution_count": 3,
   "metadata": {},
   "outputs": [
    {
     "name": "stdout",
     "output_type": "stream",
     "text": [
      "[1, 2, 3, 4, 5]\n",
      "5\n",
      "[1, 2, 3, 4]\n",
      "4\n",
      "[1, 2, 3]\n"
     ]
    }
   ],
   "source": [
    "#Стек вызовов\n",
    "\n",
    "x = [1, 2, 3]\n",
    "\n",
    "x.append(4)\n",
    "x.append(5)\n",
    "\n",
    "print(x)\n",
    "\n",
    "top = x.pop()\n",
    "print(top)\n",
    "print(x)\n",
    "\n",
    "top = x.pop()\n",
    "print(top)\n",
    "print(x)"
   ]
  },
  {
   "cell_type": "code",
   "execution_count": 6,
   "metadata": {},
   "outputs": [
    {
     "name": "stdout",
     "output_type": "stream",
     "text": [
      "4\n",
      "None\n"
     ]
    },
    {
     "data": {
      "text/plain": [
       "NoneType"
      ]
     },
     "execution_count": 6,
     "metadata": {},
     "output_type": "execute_result"
    }
   ],
   "source": [
    "x = print(4)\n",
    "print(x)\n",
    "type(x)"
   ]
  },
  {
   "cell_type": "code",
   "execution_count": 11,
   "metadata": {},
   "outputs": [
    {
     "name": "stdout",
     "output_type": "stream",
     "text": [
      "-5\n"
     ]
    }
   ],
   "source": [
    "# Задача\n",
    "\n",
    "# Напишите реализацию функции closest_mod_5, принимающую в качестве единственного\n",
    "# аргумента целое число x и возвращающую самое маленькое целое число y, такое что:\n",
    "\n",
    "# y больше или равно x\n",
    "# y делится нацело на 5\n",
    "\n",
    "def closest_mod_5(x):\n",
    "    while x % 5 != 0:\n",
    "        x += 1\n",
    "    return x\n",
    "\n",
    "print(closest_mod_5(-7))"
   ]
  },
  {
   "cell_type": "code",
   "execution_count": 18,
   "metadata": {},
   "outputs": [
    {
     "name": "stdout",
     "output_type": "stream",
     "text": [
      "Позиционный\n",
      "10\n",
      "20\n",
      "Именованный\n",
      "10\n",
      "20\n",
      "Смешанный\n",
      "10\n",
      "20\n",
      "Используя список\n",
      "10\n",
      "20\n",
      "Используя словарь\n",
      "10\n",
      "20\n"
     ]
    }
   ],
   "source": [
    "# Функции: Примеры вызова функции\n",
    "\n",
    "def printab(a, b):\n",
    "    print(a)\n",
    "    print(b)\n",
    "\n",
    "print('Позиционный')\n",
    "printab(10, 20)\n",
    "print('Именованный')\n",
    "printab(b=20, a=10)\n",
    "print('Смешанный')\n",
    "printab(10, b = 20)\n",
    "print('Используя список')\n",
    "lst = [10, 20]\n",
    "printab(*lst)\n",
    "print('Используя словарь')\n",
    "args = {'a':10, 'b':20}\n",
    "printab(**args)"
   ]
  },
  {
   "cell_type": "code",
   "execution_count": 19,
   "metadata": {},
   "outputs": [
    {
     "name": "stdout",
     "output_type": "stream",
     "text": [
      "positional argument a 10\n",
      "positional argument b 20\n",
      "additional arguments:\n",
      "30\n",
      "40\n",
      "50\n"
     ]
    }
   ],
   "source": [
    "# Функции: аргументы\n",
    "\n",
    "def printab(a, b, *args):\n",
    "    print('positional argument a', a)\n",
    "    print('positional argument b', b)\n",
    "    print('additional arguments:')\n",
    "    for arg in args:\n",
    "        print(arg)\n",
    "        \n",
    "printab(10, 20, 30, 40, 50)\n"
   ]
  },
  {
   "cell_type": "code",
   "execution_count": 21,
   "metadata": {},
   "outputs": [
    {
     "name": "stdout",
     "output_type": "stream",
     "text": [
      "positional argument a 10\n",
      "positional argument b 20\n",
      "additional arguments:\n",
      "c 30\n",
      "d 40\n",
      "jimmi 123\n",
      "positional argument a 10\n",
      "positional argument b 20\n",
      "additional arguments:\n",
      "c 30\n",
      "d 40\n",
      "jimmi 123\n"
     ]
    }
   ],
   "source": [
    "def printab(a, b, **kwargs):\n",
    "    print('positional argument a', a)\n",
    "    print('positional argument b', b)\n",
    "    print('additional arguments:')\n",
    "    for key in kwargs:\n",
    "        print(key, kwargs[key])\n",
    "        \n",
    "printab(10, 20, c=30, d=40, jimmi=123)\n",
    "printab(10,c=30, d=40, jimmi=123, b=20)"
   ]
  },
  {
   "cell_type": "code",
   "execution_count": 28,
   "metadata": {},
   "outputs": [
    {
     "name": "stdout",
     "output_type": "stream",
     "text": [
      "15 10 10 15\n"
     ]
    }
   ],
   "source": [
    "# def function_name([ positional_args,\n",
    "#                  [ positional_args_with_default,\n",
    "#                  [ *pos_args_name,\n",
    "#                  [ keywords_only_args,\n",
    "#                  [ **kw_args_name]]]]]):\n",
    "\n",
    "def printab(a, b=10, *args, c=10, d, **kwargs):\n",
    "    print(a, b, c, d)\n",
    "\n",
    "printab(15, d=15)"
   ]
  },
  {
   "cell_type": "code",
   "execution_count": 38,
   "metadata": {},
   "outputs": [
    {
     "ename": "SyntaxError",
     "evalue": "positional argument follows keyword argument (<ipython-input-38-92cb5cb32c00>, line 7)",
     "output_type": "error",
     "traceback": [
      "\u001b[1;36m  File \u001b[1;32m\"<ipython-input-38-92cb5cb32c00>\"\u001b[1;36m, line \u001b[1;32m7\u001b[0m\n\u001b[1;33m    s(b=31, 0)\u001b[0m\n\u001b[1;37m           ^\u001b[0m\n\u001b[1;31mSyntaxError\u001b[0m\u001b[1;31m:\u001b[0m positional argument follows keyword argument\n"
     ]
    }
   ],
   "source": [
    "def s(a, *vs, b=10):\n",
    "   res = a + b\n",
    "   for v in vs:\n",
    "       res += v\n",
    "   return res\n",
    "\n",
    "s(b=31, 0)\n"
   ]
  },
  {
   "cell_type": "code",
   "execution_count": 6,
   "metadata": {},
   "outputs": [
    {
     "name": "stdout",
     "output_type": "stream",
     "text": [
      "10 5\n",
      "252\n"
     ]
    }
   ],
   "source": [
    "# Реализуйте программу, которая для заданных n и k вычисляет C(n, k).\n",
    "\n",
    "# Вашей программе на вход подается строка, содержащая два целых числа n и k (1 ≤ n ≤ 10, 0 ≤ k ≤ 10).\n",
    "# Ваша программа должна вывести единственное число: C(n, k).\n",
    "\n",
    "# Несложно понять, что C(n, 0) = 1, так как из n элементов выбрать 0 можно единственным образом, а именно, ничего не выбрать.\n",
    "# Также несложно понять, что если k > n, то C(n, k) = 0, так как невозможно, например, из трех элементов выбрать пять.\n",
    "\n",
    "# Для вычисления C(n, k) в других случаях используется следующая рекуррентная формула: \n",
    "# C(n, k) = C(n - 1, k) + C(n - 1, k - 1).\n",
    "\n",
    "def comb(n, k):\n",
    "    if k == 0:\n",
    "        return 1\n",
    "    elif k > n:\n",
    "        return 0\n",
    "    else:\n",
    "        return comb(n-1, k) + comb(n-1, k-1)\n",
    "                   \n",
    "n, k = map(int, input().split())\n",
    "\n",
    "print(comb(n, k))"
   ]
  },
  {
   "cell_type": "code",
   "execution_count": null,
   "metadata": {},
   "outputs": [],
   "source": []
  }
 ],
 "metadata": {
  "kernelspec": {
   "display_name": "Python 3",
   "language": "python",
   "name": "python3"
  },
  "language_info": {
   "codemirror_mode": {
    "name": "ipython",
    "version": 3
   },
   "file_extension": ".py",
   "mimetype": "text/x-python",
   "name": "python",
   "nbconvert_exporter": "python",
   "pygments_lexer": "ipython3",
   "version": "3.7.2"
  }
 },
 "nbformat": 4,
 "nbformat_minor": 2
}
