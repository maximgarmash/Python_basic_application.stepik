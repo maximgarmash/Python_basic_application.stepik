{
 "cells": [
  {
   "cell_type": "code",
   "execution_count": 3,
   "metadata": {},
   "outputs": [
    {
     "name": "stdout",
     "output_type": "stream",
     "text": [
      "10\n",
      "<__main__.MyClass object at 0x06B04230>\n",
      "<class '__main__.MyClass'>\n",
      "<class 'type'>\n"
     ]
    }
   ],
   "source": [
    "class MyClass:\n",
    "    a = 10\n",
    "    \n",
    "    def func(self):\n",
    "        print('Hello')\n",
    "\n",
    "print(MyClass.a)\n",
    "print(x)\n",
    "\n",
    "x = MyClass()\n",
    "print(type(x))\n",
    "print(type(MyClass))"
   ]
  },
  {
   "cell_type": "code",
   "execution_count": 13,
   "metadata": {},
   "outputs": [
    {
     "name": "stdout",
     "output_type": "stream",
     "text": [
      "<class '__main__.Counter'>\n",
      "0\n",
      "10\n",
      "0\n"
     ]
    }
   ],
   "source": [
    "class Counter:\n",
    "    def __init__(self, start = 0):\n",
    "        self.count = start\n",
    "Counter\n",
    "print(Counter)\n",
    "\n",
    "x = Counter()\n",
    "print(x.count)\n",
    "\n",
    "x1 = Counter(10)\n",
    "print(x1.count)\n",
    "\n",
    "print(x.count)"
   ]
  },
  {
   "cell_type": "code",
   "execution_count": 25,
   "metadata": {},
   "outputs": [
    {
     "name": "stdout",
     "output_type": "stream",
     "text": [
      "0\n",
      "1\n",
      "0\n",
      "None\n",
      "1\n"
     ]
    }
   ],
   "source": [
    "class Counter:\n",
    "    def __init__(self):\n",
    "        self.count = 0\n",
    "    def inc(self):\n",
    "        self.count += 1\n",
    "    def reset(self):\n",
    "        self.count = 0\n",
    "\n",
    "x = Counter()\n",
    "print(x.count)\n",
    "\n",
    "x.inc()\n",
    "print(x.count)\n",
    "x.reset()\n",
    "print(x.count)\n",
    "print(x.inc())\n",
    "print(x.count)"
   ]
  },
  {
   "cell_type": "code",
   "execution_count": 37,
   "metadata": {},
   "outputs": [
    {
     "name": "stdout",
     "output_type": "stream",
     "text": [
      "10 0\n",
      "4\n",
      "4\n"
     ]
    }
   ],
   "source": [
    "# Задача 1\n",
    "\n",
    "#Реализуйте класс MoneyBox, для работы с виртуальной копилкой.\n",
    "\n",
    "# Каждая копилка имеет ограниченную вместимость, которая выражается целым числом – количеством монет, которые можно\n",
    "# положить в копилку. Класс должен поддерживать информацию о количестве монет в копилке, предоставлять возможность добавлять\n",
    "# монеты в копилку и узнавать,\n",
    "# можно ли добавить в копилку ещё какое-то количество монет, не превышая ее вместимость.\n",
    "\n",
    "class MoneyBox:\n",
    "    \n",
    "    def __init__(self, capacity = 0):\n",
    "        self.capacity = capacity\n",
    "        self.number_of_money = 0\n",
    "    \n",
    "    def number_of_money(self):\n",
    "        return self.number_of_money\n",
    "        \n",
    "    def can_add(self, v):\n",
    "        if self.number_of_money + v <= self.capacity:\n",
    "            return True\n",
    "        else:\n",
    "            return False\n",
    "    \n",
    "    def add(self, v):\n",
    "        if self.can_add(v) == True:\n",
    "            self.number_of_money += v\n",
    "\n",
    "MoneyBox\n",
    "\n",
    "MB_1 = MoneyBox(10)\n",
    "print(MB_1.capacity, MB_1.number_of_money)\n",
    "MB_1.add(4)\n",
    "print(MB_1.number_of_money)\n",
    "MB_1.add(7)\n",
    "print(MB_1.number_of_money)"
   ]
  },
  {
   "cell_type": "code",
   "execution_count": 60,
   "metadata": {},
   "outputs": [
    {
     "name": "stdout",
     "output_type": "stream",
     "text": [
      "[1, 2, 3]\n",
      "15\n",
      "[6]\n",
      "40\n",
      "[]\n",
      "5\n",
      "5\n",
      "[1]\n"
     ]
    }
   ],
   "source": [
    "# Задача 2\n",
    "#\n",
    "# Вам дается последовательность целых чисел и вам нужно ее обработать и вывести на экран сумму первой пятерки чисел из\n",
    "# этой последовательности, затем сумму второй пятерки, и т. д.\n",
    "#\n",
    "# Но последовательность не дается вам сразу целиком. С течением времени к вам поступают её последовательные части.\n",
    "# Например, сначала первые три элемента, потом следующие шесть, потом следующие два и т. д.\n",
    "#\n",
    "# Реализуйте класс Buffer, который будет накапливать в себе элементы последовательности и выводить сумму пятерок\n",
    "# последовательных элементов по мере их накопления.\n",
    "#\n",
    "# Одним из требований к классу является то, что он не должен хранить в себе больше элементов, чем ему действительно необходимо,\n",
    "# т. е. он не должен хранить элементы, которые уже вошли в пятерку, для которой была выведена сумма.\n",
    "#\n",
    "# Класс должен иметь следующий вид\n",
    "#\n",
    "# class Buffer:\n",
    "#    def __init__(self):\n",
    "#        # конструктор без аргументов\n",
    "#    \n",
    "#    def add(self, *a):\n",
    "        # добавить следующую часть последовательности\n",
    "#\n",
    "#    def get_current_part(self):\n",
    "        # вернуть сохраненные в текущий момент элементы последовательности в порядке, в котором они были     \n",
    "        # добавлены\n",
    "#\n",
    "# Пример работы с классом\n",
    "#\n",
    "# buf = Buffer()\n",
    "# buf.add(1, 2, 3)\n",
    "# buf.get_current_part() # вернуть [1, 2, 3]\n",
    "# buf.add(4, 5, 6) # print(15) – вывод суммы первой пятерки элементов\n",
    "# buf.get_current_part() # вернуть [6]\n",
    "# buf.add(7, 8, 9, 10) # print(40) – вывод суммы второй пятерки элементов\n",
    "# buf.get_current_part() # вернуть []\n",
    "# buf.add(1, 1, 1, 1, 1, 1, 1, 1, 1, 1, 1) # print(5), print(5) – вывод сумм третьей и четвертой пятерки\n",
    "# buf.get_current_part() # вернуть [1]\n",
    "\n",
    "# Обратите внимание, что во время выполнения метода add выводить сумму пятерок может потребоваться несколько раз до тех пор,\n",
    "# пока в буфере не останется менее пяти элементов.\n",
    "\n",
    "class Buffer:\n",
    "    def __init__(self):\n",
    "        self.sequence = []\n",
    "        # конструктор без аргументов\n",
    "    def add(self, *a):\n",
    "        self.sequence += a\n",
    "        while len(self.sequence) >= 5:\n",
    "            print(sum(self.sequence[:5]))\n",
    "            self.sequence = self.sequence[5:]\n",
    "             \n",
    "        # добавить следующую часть последовательности\n",
    "\n",
    "    def get_current_part(self):\n",
    "        return self.sequence\n",
    "        # вернуть сохраненные в текущий момент элементы последовательности в порядке, в котором они были     \n",
    "        # добавлены\n",
    "\n",
    "buf = Buffer()\n",
    "buf.add(1, 2, 3)\n",
    "buf.get_current_part() # вернуть [1, 2, 3]\n",
    "buf.add(4, 5, 6) # print(15) – вывод суммы первой пятерки элементов\n",
    "buf.get_current_part() # вернуть [6]\n",
    "buf.add(7, 8, 9, 10) # print(40) – вывод суммы второй пятерки элементов\n",
    "buf.get_current_part() # вернуть []\n",
    "buf.add(1, 1, 1, 1, 1, 1, 1, 1, 1, 1, 1) # print(5), print(5) – вывод сумм третьей и четвертой пятерки\n",
    "buf.get_current_part() # вернуть [1]"
   ]
  },
  {
   "cell_type": "code",
   "execution_count": 51,
   "metadata": {},
   "outputs": [
    {
     "name": "stdout",
     "output_type": "stream",
     "text": [
      "[6, 7]\n"
     ]
    }
   ],
   "source": [
    "lst = [1, 2, 3, 4, 5, 6, 7]\n",
    "\n",
    "print(lst[5:])"
   ]
  },
  {
   "cell_type": "code",
   "execution_count": 65,
   "metadata": {},
   "outputs": [
    {
     "data": {
      "text/plain": [
       "['Russian', \"Drum'n'bass\"]"
      ]
     },
     "execution_count": 65,
     "metadata": {},
     "output_type": "execute_result"
    }
   ],
   "source": [
    "class Song:\n",
    "    #tags = []\n",
    "    \n",
    "    def __init__(self, artist, song):\n",
    "        self.artist = artist\n",
    "        self.song = song\n",
    "        self.tags = []\n",
    "    def add_tags(self, *args):\n",
    "        self.tags.extend(args)\n",
    "\n",
    "song1 = Song(\"Shakey Graves\", \"Roll the Bones\")\n",
    "song1.add_tags('Americana', 'Country')\n",
    "song2 = Song('Neuromonah Feofan', 'Holodno v lesu')\n",
    "song2.add_tags('Russian', \"Drum'n'bass\")\n",
    "song2.tags\n",
    "#song1.artist"
   ]
  },
  {
   "cell_type": "code",
   "execution_count": null,
   "metadata": {},
   "outputs": [],
   "source": []
  }
 ],
 "metadata": {
  "kernelspec": {
   "display_name": "Python 3",
   "language": "python",
   "name": "python3"
  },
  "language_info": {
   "codemirror_mode": {
    "name": "ipython",
    "version": 3
   },
   "file_extension": ".py",
   "mimetype": "text/x-python",
   "name": "python",
   "nbconvert_exporter": "python",
   "pygments_lexer": "ipython3",
   "version": "3.7.2"
  }
 },
 "nbformat": 4,
 "nbformat_minor": 2
}
